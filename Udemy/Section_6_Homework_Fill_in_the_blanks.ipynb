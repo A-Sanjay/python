{
 "cells": [
  {
   "cell_type": "markdown",
   "metadata": {},
   "source": [
    "### Section 6 Homework - Fill in the blanks"
   ]
  },
  {
   "cell_type": "markdown",
   "metadata": {},
   "source": [
    "Import the packages needed to perform the analysis"
   ]
  },
  {
   "cell_type": "code",
   "execution_count": 9,
   "metadata": {},
   "outputs": [],
   "source": [
    "import pandas as pd\n",
    "import matplotlib.pyplot as plt\n",
    "import seaborn as sns\n",
    "import warnings\n",
    "warnings.filterwarnings('ignore')\n",
    "%matplotlib inline"
   ]
  },
  {
   "cell_type": "code",
   "execution_count": 10,
   "metadata": {},
   "outputs": [],
   "source": [
    "# Import the data\n",
    "mov = pd.read_csv('P4-Section6-Homework-Dataset.csv', encoding = 'latin1')"
   ]
  },
  {
   "cell_type": "code",
   "execution_count": 11,
   "metadata": {},
   "outputs": [
    {
     "data": {
      "text/html": [
       "<div>\n",
       "<style scoped>\n",
       "    .dataframe tbody tr th:only-of-type {\n",
       "        vertical-align: middle;\n",
       "    }\n",
       "\n",
       "    .dataframe tbody tr th {\n",
       "        vertical-align: top;\n",
       "    }\n",
       "\n",
       "    .dataframe thead th {\n",
       "        text-align: right;\n",
       "    }\n",
       "</style>\n",
       "<table border=\"1\" class=\"dataframe\">\n",
       "  <thead>\n",
       "    <tr style=\"text-align: right;\">\n",
       "      <th></th>\n",
       "      <th>Day of Week</th>\n",
       "      <th>Director</th>\n",
       "      <th>Genre</th>\n",
       "      <th>Movie Title</th>\n",
       "      <th>Release Date</th>\n",
       "      <th>Studio</th>\n",
       "      <th>Adjusted Gross ($mill)</th>\n",
       "      <th>Budget ($mill)</th>\n",
       "      <th>Gross ($mill)</th>\n",
       "      <th>IMDb Rating</th>\n",
       "      <th>MovieLens Rating</th>\n",
       "      <th>Overseas ($mill)</th>\n",
       "      <th>Overseas%</th>\n",
       "      <th>Profit ($mill)</th>\n",
       "      <th>Profit%</th>\n",
       "      <th>Runtime (min)</th>\n",
       "      <th>US ($mill)</th>\n",
       "      <th>Gross % US</th>\n",
       "    </tr>\n",
       "  </thead>\n",
       "  <tbody>\n",
       "    <tr>\n",
       "      <th>0</th>\n",
       "      <td>Friday</td>\n",
       "      <td>Brad Bird</td>\n",
       "      <td>action</td>\n",
       "      <td>Tomorrowland</td>\n",
       "      <td>22/05/2015</td>\n",
       "      <td>Buena Vista Studios</td>\n",
       "      <td>202.1</td>\n",
       "      <td>170.0</td>\n",
       "      <td>202.1</td>\n",
       "      <td>6.7</td>\n",
       "      <td>3.26</td>\n",
       "      <td>111.9</td>\n",
       "      <td>55.4</td>\n",
       "      <td>32.1</td>\n",
       "      <td>18.9</td>\n",
       "      <td>130</td>\n",
       "      <td>90.2</td>\n",
       "      <td>44.6</td>\n",
       "    </tr>\n",
       "    <tr>\n",
       "      <th>1</th>\n",
       "      <td>Friday</td>\n",
       "      <td>Scott Waugh</td>\n",
       "      <td>action</td>\n",
       "      <td>Need for Speed</td>\n",
       "      <td>14/03/2014</td>\n",
       "      <td>Buena Vista Studios</td>\n",
       "      <td>204.2</td>\n",
       "      <td>66.0</td>\n",
       "      <td>203.3</td>\n",
       "      <td>6.6</td>\n",
       "      <td>2.97</td>\n",
       "      <td>159.7</td>\n",
       "      <td>78.6</td>\n",
       "      <td>137.3</td>\n",
       "      <td>208.0</td>\n",
       "      <td>132</td>\n",
       "      <td>43.6</td>\n",
       "      <td>21.4</td>\n",
       "    </tr>\n",
       "    <tr>\n",
       "      <th>2</th>\n",
       "      <td>Friday</td>\n",
       "      <td>Patrick Hughes</td>\n",
       "      <td>action</td>\n",
       "      <td>The Expendables 3</td>\n",
       "      <td>15/08/2014</td>\n",
       "      <td>Lionsgate</td>\n",
       "      <td>207.1</td>\n",
       "      <td>100.0</td>\n",
       "      <td>206.2</td>\n",
       "      <td>6.1</td>\n",
       "      <td>2.93</td>\n",
       "      <td>166.9</td>\n",
       "      <td>80.9</td>\n",
       "      <td>106.2</td>\n",
       "      <td>106.2</td>\n",
       "      <td>126</td>\n",
       "      <td>39.3</td>\n",
       "      <td>19.1</td>\n",
       "    </tr>\n",
       "    <tr>\n",
       "      <th>3</th>\n",
       "      <td>Friday</td>\n",
       "      <td>Phil Lord, Chris Miller</td>\n",
       "      <td>comedy</td>\n",
       "      <td>21 Jump Street</td>\n",
       "      <td>16/03/2012</td>\n",
       "      <td>Sony</td>\n",
       "      <td>208.8</td>\n",
       "      <td>42.0</td>\n",
       "      <td>201.6</td>\n",
       "      <td>7.2</td>\n",
       "      <td>3.62</td>\n",
       "      <td>63.1</td>\n",
       "      <td>31.3</td>\n",
       "      <td>159.6</td>\n",
       "      <td>380.0</td>\n",
       "      <td>109</td>\n",
       "      <td>138.4</td>\n",
       "      <td>68.7</td>\n",
       "    </tr>\n",
       "    <tr>\n",
       "      <th>4</th>\n",
       "      <td>Friday</td>\n",
       "      <td>Roland Emmerich</td>\n",
       "      <td>action</td>\n",
       "      <td>White House Down</td>\n",
       "      <td>28/06/2013</td>\n",
       "      <td>Sony</td>\n",
       "      <td>209.7</td>\n",
       "      <td>150.0</td>\n",
       "      <td>205.4</td>\n",
       "      <td>8.0</td>\n",
       "      <td>3.65</td>\n",
       "      <td>132.3</td>\n",
       "      <td>64.4</td>\n",
       "      <td>55.4</td>\n",
       "      <td>36.9</td>\n",
       "      <td>131</td>\n",
       "      <td>73.1</td>\n",
       "      <td>35.6</td>\n",
       "    </tr>\n",
       "  </tbody>\n",
       "</table>\n",
       "</div>"
      ],
      "text/plain": [
       "  Day of Week                 Director   Genre        Movie Title  \\\n",
       "0      Friday                Brad Bird  action       Tomorrowland   \n",
       "1      Friday              Scott Waugh  action     Need for Speed   \n",
       "2      Friday           Patrick Hughes  action  The Expendables 3   \n",
       "3      Friday  Phil Lord, Chris Miller  comedy     21 Jump Street   \n",
       "4      Friday          Roland Emmerich  action   White House Down   \n",
       "\n",
       "  Release Date               Studio Adjusted Gross ($mill)  Budget ($mill)  \\\n",
       "0   22/05/2015  Buena Vista Studios                  202.1           170.0   \n",
       "1   14/03/2014  Buena Vista Studios                  204.2            66.0   \n",
       "2   15/08/2014            Lionsgate                  207.1           100.0   \n",
       "3   16/03/2012                 Sony                  208.8            42.0   \n",
       "4   28/06/2013                 Sony                  209.7           150.0   \n",
       "\n",
       "  Gross ($mill)  IMDb Rating  MovieLens Rating Overseas ($mill)  Overseas%  \\\n",
       "0         202.1          6.7              3.26            111.9       55.4   \n",
       "1         203.3          6.6              2.97            159.7       78.6   \n",
       "2         206.2          6.1              2.93            166.9       80.9   \n",
       "3         201.6          7.2              3.62             63.1       31.3   \n",
       "4         205.4          8.0              3.65            132.3       64.4   \n",
       "\n",
       "  Profit ($mill)  Profit%  Runtime (min)  US ($mill)  Gross % US  \n",
       "0           32.1     18.9            130        90.2        44.6  \n",
       "1          137.3    208.0            132        43.6        21.4  \n",
       "2          106.2    106.2            126        39.3        19.1  \n",
       "3          159.6    380.0            109       138.4        68.7  \n",
       "4           55.4     36.9            131        73.1        35.6  "
      ]
     },
     "execution_count": 11,
     "metadata": {},
     "output_type": "execute_result"
    }
   ],
   "source": [
    "# Explore the dataset\n",
    "mov.head()"
   ]
  },
  {
   "cell_type": "code",
   "execution_count": 12,
   "metadata": {},
   "outputs": [
    {
     "name": "stdout",
     "output_type": "stream",
     "text": [
      "<class 'pandas.core.frame.DataFrame'>\n",
      "RangeIndex: 608 entries, 0 to 607\n",
      "Data columns (total 18 columns):\n",
      " #   Column                  Non-Null Count  Dtype  \n",
      "---  ------                  --------------  -----  \n",
      " 0   Day of Week             608 non-null    object \n",
      " 1   Director                608 non-null    object \n",
      " 2   Genre                   608 non-null    object \n",
      " 3   Movie Title             608 non-null    object \n",
      " 4   Release Date            608 non-null    object \n",
      " 5   Studio                  608 non-null    object \n",
      " 6   Adjusted Gross ($mill)  608 non-null    object \n",
      " 7   Budget ($mill)          608 non-null    float64\n",
      " 8   Gross ($mill)           608 non-null    object \n",
      " 9   IMDb Rating             608 non-null    float64\n",
      " 10  MovieLens Rating        608 non-null    float64\n",
      " 11  Overseas ($mill)        608 non-null    object \n",
      " 12  Overseas%               608 non-null    float64\n",
      " 13  Profit ($mill)          608 non-null    object \n",
      " 14  Profit%                 608 non-null    float64\n",
      " 15  Runtime (min)           608 non-null    int64  \n",
      " 16  US ($mill)              608 non-null    float64\n",
      " 17  Gross % US              608 non-null    float64\n",
      "dtypes: float64(7), int64(1), object(10)\n",
      "memory usage: 85.6+ KB\n"
     ]
    }
   ],
   "source": [
    "# Check the summary of the dataframe\n",
    "mov.info()"
   ]
  },
  {
   "cell_type": "code",
   "execution_count": 13,
   "metadata": {
    "scrolled": true
   },
   "outputs": [
    {
     "data": {
      "text/html": [
       "<div>\n",
       "<style scoped>\n",
       "    .dataframe tbody tr th:only-of-type {\n",
       "        vertical-align: middle;\n",
       "    }\n",
       "\n",
       "    .dataframe tbody tr th {\n",
       "        vertical-align: top;\n",
       "    }\n",
       "\n",
       "    .dataframe thead th {\n",
       "        text-align: right;\n",
       "    }\n",
       "</style>\n",
       "<table border=\"1\" class=\"dataframe\">\n",
       "  <thead>\n",
       "    <tr style=\"text-align: right;\">\n",
       "      <th></th>\n",
       "      <th>Budget ($mill)</th>\n",
       "      <th>IMDb Rating</th>\n",
       "      <th>MovieLens Rating</th>\n",
       "      <th>Overseas%</th>\n",
       "      <th>Profit%</th>\n",
       "      <th>Runtime (min)</th>\n",
       "      <th>US ($mill)</th>\n",
       "      <th>Gross % US</th>\n",
       "    </tr>\n",
       "  </thead>\n",
       "  <tbody>\n",
       "    <tr>\n",
       "      <th>count</th>\n",
       "      <td>608.000000</td>\n",
       "      <td>608.000000</td>\n",
       "      <td>608.000000</td>\n",
       "      <td>608.000000</td>\n",
       "      <td>608.000000</td>\n",
       "      <td>608.000000</td>\n",
       "      <td>608.000000</td>\n",
       "      <td>608.000000</td>\n",
       "    </tr>\n",
       "    <tr>\n",
       "      <th>mean</th>\n",
       "      <td>92.467928</td>\n",
       "      <td>6.923849</td>\n",
       "      <td>3.340378</td>\n",
       "      <td>57.698849</td>\n",
       "      <td>719.278783</td>\n",
       "      <td>117.781250</td>\n",
       "      <td>167.135197</td>\n",
       "      <td>42.301151</td>\n",
       "    </tr>\n",
       "    <tr>\n",
       "      <th>std</th>\n",
       "      <td>59.421407</td>\n",
       "      <td>0.925890</td>\n",
       "      <td>0.454071</td>\n",
       "      <td>12.334237</td>\n",
       "      <td>1942.807248</td>\n",
       "      <td>23.179122</td>\n",
       "      <td>92.465903</td>\n",
       "      <td>12.334237</td>\n",
       "    </tr>\n",
       "    <tr>\n",
       "      <th>min</th>\n",
       "      <td>0.600000</td>\n",
       "      <td>3.600000</td>\n",
       "      <td>1.490000</td>\n",
       "      <td>17.200000</td>\n",
       "      <td>7.700000</td>\n",
       "      <td>30.000000</td>\n",
       "      <td>0.000000</td>\n",
       "      <td>0.000000</td>\n",
       "    </tr>\n",
       "    <tr>\n",
       "      <th>25%</th>\n",
       "      <td>45.000000</td>\n",
       "      <td>6.375000</td>\n",
       "      <td>3.037500</td>\n",
       "      <td>49.900000</td>\n",
       "      <td>201.850000</td>\n",
       "      <td>100.000000</td>\n",
       "      <td>106.950000</td>\n",
       "      <td>33.700000</td>\n",
       "    </tr>\n",
       "    <tr>\n",
       "      <th>50%</th>\n",
       "      <td>80.000000</td>\n",
       "      <td>6.900000</td>\n",
       "      <td>3.365000</td>\n",
       "      <td>58.200000</td>\n",
       "      <td>338.550000</td>\n",
       "      <td>116.000000</td>\n",
       "      <td>141.700000</td>\n",
       "      <td>41.800000</td>\n",
       "    </tr>\n",
       "    <tr>\n",
       "      <th>75%</th>\n",
       "      <td>130.000000</td>\n",
       "      <td>7.600000</td>\n",
       "      <td>3.672500</td>\n",
       "      <td>66.300000</td>\n",
       "      <td>650.100000</td>\n",
       "      <td>130.250000</td>\n",
       "      <td>202.100000</td>\n",
       "      <td>50.100000</td>\n",
       "    </tr>\n",
       "    <tr>\n",
       "      <th>max</th>\n",
       "      <td>300.000000</td>\n",
       "      <td>9.200000</td>\n",
       "      <td>4.500000</td>\n",
       "      <td>100.000000</td>\n",
       "      <td>41333.300000</td>\n",
       "      <td>238.000000</td>\n",
       "      <td>760.500000</td>\n",
       "      <td>82.800000</td>\n",
       "    </tr>\n",
       "  </tbody>\n",
       "</table>\n",
       "</div>"
      ],
      "text/plain": [
       "       Budget ($mill)  IMDb Rating  MovieLens Rating   Overseas%  \\\n",
       "count      608.000000   608.000000        608.000000  608.000000   \n",
       "mean        92.467928     6.923849          3.340378   57.698849   \n",
       "std         59.421407     0.925890          0.454071   12.334237   \n",
       "min          0.600000     3.600000          1.490000   17.200000   \n",
       "25%         45.000000     6.375000          3.037500   49.900000   \n",
       "50%         80.000000     6.900000          3.365000   58.200000   \n",
       "75%        130.000000     7.600000          3.672500   66.300000   \n",
       "max        300.000000     9.200000          4.500000  100.000000   \n",
       "\n",
       "            Profit%  Runtime (min)  US ($mill)  Gross % US  \n",
       "count    608.000000     608.000000  608.000000  608.000000  \n",
       "mean     719.278783     117.781250  167.135197   42.301151  \n",
       "std     1942.807248      23.179122   92.465903   12.334237  \n",
       "min        7.700000      30.000000    0.000000    0.000000  \n",
       "25%      201.850000     100.000000  106.950000   33.700000  \n",
       "50%      338.550000     116.000000  141.700000   41.800000  \n",
       "75%      650.100000     130.250000  202.100000   50.100000  \n",
       "max    41333.300000     238.000000  760.500000   82.800000  "
      ]
     },
     "execution_count": 13,
     "metadata": {},
     "output_type": "execute_result"
    }
   ],
   "source": [
    "# Check the structure of the dataframe\n",
    "mov.describe()"
   ]
  },
  {
   "cell_type": "code",
   "execution_count": 20,
   "metadata": {},
   "outputs": [
    {
     "data": {
      "image/png": "[encoded data removed]",
      "text/plain": [
       "<Figure size 576x576 with 1 Axes>"
      ]
     },
     "metadata": {
      "needs_background": "light"
     },
     "output_type": "display_data"
    }
   ],
   "source": [
    "vis1=sns.factorplot(data=mov,x='Day of Week',kind='count',size=8)"
   ]
  },
  {
   "cell_type": "code",
   "execution_count": 6,
   "metadata": {},
   "outputs": [
    {
     "data": {
      "text/plain": [
       "0      Buena Vista Studios\n",
       "1      Buena Vista Studios\n",
       "2                Lionsgate\n",
       "3                     Sony\n",
       "4                     Sony\n",
       "              ...         \n",
       "603                     WB\n",
       "604                    Fox\n",
       "605                    Fox\n",
       "606     Paramount Pictures\n",
       "607                    MGM\n",
       "Name: Studio, Length: 608, dtype: category\n",
       "Categories (36, object): [Art House Studios, Buena Vista Studios, Colombia Pictures, Dimension Films, ..., Vestron Pictures, WB, WB/New Line, Weinstein Company]"
      ]
     },
     "execution_count": 6,
     "metadata": {},
     "output_type": "execute_result"
    }
   ],
   "source": [
    "# Explore the categorical variable Studio, used in the assignment\n",
    "mov.Studio.astype('category')"
   ]
  },
  {
   "cell_type": "code",
   "execution_count": 7,
   "metadata": {},
   "outputs": [
    {
     "data": {
      "text/plain": [
       "0      action\n",
       "1      action\n",
       "2      action\n",
       "3      comedy\n",
       "4      action\n",
       "        ...  \n",
       "603    horror\n",
       "604    action\n",
       "605    sci-fi\n",
       "606     drama\n",
       "607     drama\n",
       "Name: Genre, Length: 608, dtype: category\n",
       "Categories (15, object): [action, adventure, animation, biography, ..., mystery, romance, sci-fi, thriller]"
      ]
     },
     "execution_count": 7,
     "metadata": {},
     "output_type": "execute_result"
    }
   ],
   "source": [
    "# Explore the categorical variable Studio, used in the assignment\n",
    "mov.Genre.astype('category')"
   ]
  },
  {
   "cell_type": "code",
   "execution_count": 28,
   "metadata": {
    "scrolled": true
   },
   "outputs": [
    {
     "data": {
      "text/plain": [
       "array(['Buena Vista Studios', 'Fox'], dtype=object)"
      ]
     },
     "execution_count": 28,
     "metadata": {},
     "output_type": "execute_result"
    }
   ],
   "source": [
    "#How a filtering be done:\n",
    "eg=mov[(mov.Studio=='Fox') | (mov.Studio=='Buena Vista Studios')]\n",
    "eg.Studio.unique()"
   ]
  },
  {
   "cell_type": "code",
   "execution_count": 33,
   "metadata": {},
   "outputs": [
    {
     "data": {
      "text/plain": [
       "array(['Buena Vista Studios', 'Sony', 'Universal', 'Paramount Pictures',\n",
       "       'WB', 'Fox'], dtype=object)"
      ]
     },
     "execution_count": 33,
     "metadata": {},
     "output_type": "execute_result"
    }
   ],
   "source": [
    "# Myself filtering in another method\n",
    "studio_filter=['Buena Vista Studios','Fox','Paramount Pictures','Sony','Universal','WB']\n",
    "eg2 =mov[mov.Studio.isin(studio_filter)]\n",
    "eg2.Studio.unique()"
   ]
  },
  {
   "cell_type": "code",
   "execution_count": 14,
   "metadata": {},
   "outputs": [],
   "source": [
    "# Filter the dataframe by genre\n",
    "mov2 = mov[(mov.Genre == 'action') | (mov.Genre == 'adventure') | (mov.Genre == 'animation') | (mov.Genre == 'comedy') | (mov.Genre == 'drama')]"
   ]
  },
  {
   "cell_type": "code",
   "execution_count": 16,
   "metadata": {},
   "outputs": [],
   "source": [
    "# Filter the dataframe by studio\n",
    "mov3 = mov2[(mov2.Studio == 'Buena Vista Studios') | (mov2.Studio == 'Fox') | (mov2.Studio == 'Paramount Pictures') | (mov2.Studio == 'Sony') | (mov2.Studio == 'Universal') | (mov2.Studio == 'WB')]"
   ]
  },
  {
   "cell_type": "code",
   "execution_count": 25,
   "metadata": {},
   "outputs": [
    {
     "name": "stdout",
     "output_type": "stream",
     "text": [
      "['action' 'comedy' 'adventure' 'animation' 'drama']\n",
      "['Buena Vista Studios' 'Sony' 'Universal' 'WB' 'Paramount Pictures' 'Fox']\n",
      "423\n"
     ]
    }
   ],
   "source": [
    "# Check how the filters worked\n",
    "print (mov2.Genre.unique())\n",
    "print (mov3.Studio.unique())\n",
    "print (len(mov3))"
   ]
  },
  {
   "cell_type": "code",
   "execution_count": 36,
   "metadata": {},
   "outputs": [
    {
     "data": {
      "image/png": "[encoded data removed]",
      "text/plain": [
       "<Figure size 432x288 with 1 Axes>"
      ]
     },
     "metadata": {},
     "output_type": "display_data"
    }
   ],
   "source": [
    "# Define the style\n",
    "sns.set(style=\"darkgrid\", palette=\"muted\", color_codes=True)\n",
    "\n",
    "# Plot the boxsplots\n",
    "ax = sns.boxplot(data=mov3, x='Genre', y='Gross % US', orient='v', color='lightgray', showfliers=False)\n",
    "plt.setp(ax.artists, alpha=0.5)\n",
    "\n",
    "# Add in points to show each observation\n",
    "sns.stripplot(x='Genre', y='Gross % US', data=mov3, jitter=True, size=6, linewidth=0, hue = 'Studio', alpha=0.7)\n",
    "\n",
    "ax.axes.set_title('Domestic Gross% by Genre',fontsize=30)\n",
    "ax.set_xlabel('Genre',fontsize=20)\n",
    "ax.set_ylabel('Gross % US',fontsize=20)\n",
    "\n",
    "# Define where to place the legend\n",
    "ax.legend(bbox_to_anchor=(1.05, 1), loc=2, borderaxespad=0.5)\n",
    "plt.show()"
   ]
  },
  {
   "cell_type": "code",
   "execution_count": null,
   "metadata": {},
   "outputs": [],
   "source": []
  }
 ],
 "metadata": {
  "anaconda-cloud": {},
  "kernelspec": {
   "display_name": "Python 3",
   "language": "python",
   "name": "python3"
  },
  "language_info": {
   "codemirror_mode": {
    "name": "ipython",
    "version": 3
   },
   "file_extension": ".py",
   "mimetype": "text/x-python",
   "name": "python",
   "nbconvert_exporter": "python",
   "pygments_lexer": "ipython3",
   "version": "3.8.3"
  }
 },
 "nbformat": 4,
 "nbformat_minor": 1
}
